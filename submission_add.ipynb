{
 "cells": [
  {
   "cell_type": "code",
   "execution_count": 1,
   "metadata": {},
   "outputs": [],
   "source": [
    "import numpy as np\n",
    "import pandas as pd\n",
    "from skimage.morphology import label\n",
    "\n",
    "def rle_to_mask(rle_list, SHAPE):\n",
    "    tmp_flat = np.zeros(SHAPE[0]*SHAPE[1])\n",
    "    if len(rle_list) == 1:\n",
    "        mask = np.reshape(tmp_flat, SHAPE).T\n",
    "    else:\n",
    "        strt = rle_list[::2]\n",
    "        length = rle_list[1::2]\n",
    "        for i,v in zip(strt,length):\n",
    "            tmp_flat[(int(i)-1):(int(i)-1)+int(v)] = 1.0\n",
    "        mask = np.reshape(tmp_flat, SHAPE).T\n",
    "    return mask\n",
    "\n",
    "def multi_rle_encode(img, **kwargs):\n",
    "    '''\n",
    "    Encode connected regions as separated masks\n",
    "    '''\n",
    "    labels = label(img)\n",
    "    return [rle_encode(labels==k, **kwargs) for k in np.unique(labels[labels>0])]\n",
    "\n",
    "  # ref: https://www.kaggle.com/paulorzp/run-length-encode-and-decode\n",
    "def rle_encode(img, min_max_threshold=1e-3, max_mean_threshold=None):\n",
    "    '''\n",
    "    img: numpy array, 1 - mask, 0 - background\n",
    "    Returns run length as string formated\n",
    "    '''\n",
    "    if np.max(img) < min_max_threshold:\n",
    "        return '' ## no need to encode if it's all zeros\n",
    "    if max_mean_threshold and np.mean(img) > max_mean_threshold:\n",
    "        return '' ## ignore overfilled mask\n",
    "    pixels = img.T.flatten()\n",
    "    pixels = np.concatenate([[0], pixels, [0]])\n",
    "    runs = np.where(pixels[1:] != pixels[:-1])[0] + 1\n",
    "    runs[1::2] -= runs[::2]\n",
    "    return ' '.join(str(x) for x in runs)"
   ]
  },
  {
   "cell_type": "code",
   "execution_count": 2,
   "metadata": {},
   "outputs": [],
   "source": [
    "s1 = pd.read_csv('./submission-12.csv')\n",
    "s2 = pd.read_csv('./submission-4.csv')\n",
    "s = pd.concat([s1, s2], axis=0)\n",
    "s_gp = s.groupby('ImageId').sum()\n",
    "s_gp = s_gp.reset_index()\n",
    "pred_rows = []\n",
    "for image_name in s_gp['ImageId'].tolist():\n",
    "    mask_list = s['EncodedPixels'][s['ImageId'] == image_name].tolist()\n",
    "    seg_mask = np.zeros((768, 768))\n",
    "    for item in mask_list:\n",
    "        rle_list = str(item).split()\n",
    "        tmp_mask = rle_to_mask(rle_list, (768, 768))\n",
    "        seg_mask[:,:] += tmp_mask\n",
    "    seg_mask = np.where(seg_mask<=1, 0, 1)\n",
    "    rles = multi_rle_encode(seg_mask)\n",
    "    if len(rles)>0:\n",
    "        for rle in rles:\n",
    "            pred_rows += [{'ImageId': image_name, 'EncodedPixels': rle}]\n",
    "    else:\n",
    "        pred_rows += [{'ImageId': image_name, 'EncodedPixels': None}]\n",
    "submission_df = pd.DataFrame(pred_rows)[['ImageId', 'EncodedPixels']]\n",
    "submission_df.to_csv('submission.csv', index=False)"
   ]
  },
  {
   "cell_type": "code",
   "execution_count": null,
   "metadata": {},
   "outputs": [],
   "source": []
  }
 ],
 "metadata": {
  "kernelspec": {
   "display_name": "Python [conda env:anaconda3]",
   "language": "python",
   "name": "conda-env-anaconda3-py"
  },
  "language_info": {
   "codemirror_mode": {
    "name": "ipython",
    "version": 3
   },
   "file_extension": ".py",
   "mimetype": "text/x-python",
   "name": "python",
   "nbconvert_exporter": "python",
   "pygments_lexer": "ipython3",
   "version": "3.6.6"
  }
 },
 "nbformat": 4,
 "nbformat_minor": 2
}
