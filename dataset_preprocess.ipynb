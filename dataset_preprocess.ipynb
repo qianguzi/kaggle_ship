{
 "cells": [
  {
   "cell_type": "code",
   "execution_count": 1,
   "metadata": {},
   "outputs": [
    {
     "data": {
      "text/html": [
       "<div>\n",
       "<style scoped>\n",
       "    .dataframe tbody tr th:only-of-type {\n",
       "        vertical-align: middle;\n",
       "    }\n",
       "\n",
       "    .dataframe tbody tr th {\n",
       "        vertical-align: top;\n",
       "    }\n",
       "\n",
       "    .dataframe thead th {\n",
       "        text-align: right;\n",
       "    }\n",
       "</style>\n",
       "<table border=\"1\" class=\"dataframe\">\n",
       "  <thead>\n",
       "    <tr style=\"text-align: right;\">\n",
       "      <th></th>\n",
       "      <th>ImageId</th>\n",
       "      <th>EncodedPixels</th>\n",
       "    </tr>\n",
       "  </thead>\n",
       "  <tbody>\n",
       "    <tr>\n",
       "      <th>0</th>\n",
       "      <td>00003e153.jpg</td>\n",
       "      <td>NaN</td>\n",
       "    </tr>\n",
       "    <tr>\n",
       "      <th>1</th>\n",
       "      <td>0001124c7.jpg</td>\n",
       "      <td>NaN</td>\n",
       "    </tr>\n",
       "    <tr>\n",
       "      <th>2</th>\n",
       "      <td>000155de5.jpg</td>\n",
       "      <td>264661 17 265429 33 266197 33 266965 33 267733...</td>\n",
       "    </tr>\n",
       "    <tr>\n",
       "      <th>3</th>\n",
       "      <td>000194a2d.jpg</td>\n",
       "      <td>360486 1 361252 4 362019 5 362785 8 363552 10 ...</td>\n",
       "    </tr>\n",
       "    <tr>\n",
       "      <th>4</th>\n",
       "      <td>000194a2d.jpg</td>\n",
       "      <td>51834 9 52602 9 53370 9 54138 9 54906 9 55674 ...</td>\n",
       "    </tr>\n",
       "  </tbody>\n",
       "</table>\n",
       "</div>"
      ],
      "text/plain": [
       "         ImageId                                      EncodedPixels\n",
       "0  00003e153.jpg                                                NaN\n",
       "1  0001124c7.jpg                                                NaN\n",
       "2  000155de5.jpg  264661 17 265429 33 266197 33 266965 33 267733...\n",
       "3  000194a2d.jpg  360486 1 361252 4 362019 5 362785 8 363552 10 ...\n",
       "4  000194a2d.jpg  51834 9 52602 9 53370 9 54138 9 54906 9 55674 ..."
      ]
     },
     "execution_count": 1,
     "metadata": {},
     "output_type": "execute_result"
    }
   ],
   "source": [
    "import cv2\n",
    "import math\n",
    "import os\n",
    "import random\n",
    "import pandas as pd\n",
    "import numpy as np\n",
    "from sklearn.model_selection import train_test_split\n",
    "\n",
    "dataset_folder = '/media/jun/data/ship'\n",
    "train_folder = '/media/jun/data/ship/train_v2'\n",
    "train_df = pd.read_csv(os.path.join(dataset_folder, 'train_ship_segmentations_v2.csv'))\n",
    "train_df = train_df[train_df['ImageId'] != '6384c3e78.jpg']\n",
    "train_df.head(5)"
   ]
  },
  {
   "cell_type": "code",
   "execution_count": 2,
   "metadata": {},
   "outputs": [],
   "source": [
    "def area_isnull(x):\n",
    "    if x == x:\n",
    "        return 0\n",
    "    else:\n",
    "        return 1\n",
    "\n",
    "train_df['isnan'] = train_df['EncodedPixels'].apply(area_isnull)\n",
    "train_isship = train_df[train_df['isnan']==0]\n",
    "train_nanship = train_df[train_df['isnan']==1]"
   ]
  },
  {
   "cell_type": "code",
   "execution_count": 3,
   "metadata": {},
   "outputs": [],
   "source": [
    "def rle_to_mask(rle_list, SHAPE):\n",
    "    tmp_flat = np.zeros(SHAPE[0]*SHAPE[1])\n",
    "    if len(rle_list) == 1:\n",
    "        mask = np.reshape(tmp_flat, SHAPE).T\n",
    "    else:\n",
    "        strt = rle_list[::2]\n",
    "        length = rle_list[1::2]\n",
    "        for i,v in zip(strt,length):\n",
    "            tmp_flat[(int(i)-1):(int(i)-1)+int(v)] = 1.0\n",
    "        mask = np.reshape(tmp_flat, SHAPE).T\n",
    "    return mask\n",
    "\n",
    "def calc_area_for_rle(rle_str):\n",
    "    rle_list = [int(x) if x.isdigit() else x for x in str(rle_str).split()]\n",
    "    if len(rle_list) == 1:\n",
    "        return 0\n",
    "    else:\n",
    "        area = np.sum(rle_list[1::2])\n",
    "        return area\n",
    "def calc_class(area):\n",
    "    area = area / (768*768)\n",
    "    if area == 0:\n",
    "        return 0\n",
    "    elif area < 0.005:\n",
    "        return 1\n",
    "    elif area < 0.015:\n",
    "        return 2\n",
    "    elif area < 0.025:\n",
    "        return 3\n",
    "    elif area < 0.035:\n",
    "        return 4\n",
    "    elif area < 0.045:\n",
    "        return 5\n",
    "    else:\n",
    "        return 6"
   ]
  },
  {
   "cell_type": "code",
   "execution_count": 4,
   "metadata": {},
   "outputs": [
    {
     "name": "stderr",
     "output_type": "stream",
     "text": [
      "/home/jun/anaconda3/lib/python3.6/site-packages/ipykernel/__main__.py:1: SettingWithCopyWarning: \n",
      "A value is trying to be set on a copy of a slice from a DataFrame.\n",
      "Try using .loc[row_indexer,col_indexer] = value instead\n",
      "\n",
      "See the caveats in the documentation: http://pandas.pydata.org/pandas-docs/stable/indexing.html#indexing-view-versus-copy\n",
      "  if __name__ == '__main__':\n"
     ]
    }
   ],
   "source": [
    "train_isship['area'] = train_isship['EncodedPixels'].apply(calc_area_for_rle)\n",
    "train_gp = train_isship.groupby('ImageId').sum()\n",
    "train_gp = train_gp.reset_index()\n",
    "train_gp['class'] = train_gp['area'].apply(calc_class)\n",
    "train, val = train_test_split(train_gp, test_size=0.05, stratify=train_gp['class'].tolist())\n",
    "\n",
    "val_isship = pd.DataFrame()\n",
    "for i in val['ImageId']:\n",
    "    val_isship = pd.concat([val_isship, train_isship[train_isship['ImageId'] == i]], axis=0)\n",
    "train_isship.drop(val_isship.index)\n",
    "\n",
    "val_isship = val_isship.groupby('ImageId')\n",
    "val_nanship = train_nanship[:len(val_isship)]\n",
    "train_nanship = train_nanship[len(val_isship):]"
   ]
  },
  {
   "cell_type": "code",
   "execution_count": 5,
   "metadata": {},
   "outputs": [
    {
     "name": "stderr",
     "output_type": "stream",
     "text": [
      "/home/jun/anaconda3/lib/python3.6/site-packages/ipykernel/__main__.py:1: SettingWithCopyWarning: \n",
      "A value is trying to be set on a copy of a slice from a DataFrame.\n",
      "Try using .loc[row_indexer,col_indexer] = value instead\n",
      "\n",
      "See the caveats in the documentation: http://pandas.pydata.org/pandas-docs/stable/indexing.html#indexing-view-versus-copy\n",
      "  if __name__ == '__main__':\n"
     ]
    },
    {
     "data": {
      "text/plain": [
       "1    69770\n",
       "2     8923\n",
       "3     2171\n",
       "4      825\n",
       "5       34\n",
       "Name: class, dtype: int64"
      ]
     },
     "execution_count": 5,
     "metadata": {},
     "output_type": "execute_result"
    }
   ],
   "source": [
    "train_isship['class'] = train_isship['area'].apply(calc_class)\n",
    "train_isship['class'].value_counts()"
   ]
  },
  {
   "cell_type": "code",
   "execution_count": 6,
   "metadata": {},
   "outputs": [],
   "source": [
    "train_5 = train_isship[train_isship['class']>=3]\n",
    "train_gp5 = train_5.groupby('ImageId').sum()\n",
    "train_4 = train_isship[train_isship['class']>=2]\n",
    "train_gp4 = train_4.groupby('ImageId').sum()\n",
    "train_3 = train_isship[(train_isship['class']==3)|(train_isship['class']==2)]\n",
    "train_gp3 = train_3.groupby('ImageId').sum()\n",
    "train_2 = train_isship[(train_isship['class']==2)|(train_isship['class']==1)]\n",
    "train_gp2 = train_2.groupby('ImageId').sum()\n",
    "train_1 = train_isship[train_isship['class']==1]\n",
    "train_gp1 = train_1.groupby('ImageId').sum()"
   ]
  },
  {
   "cell_type": "code",
   "execution_count": 30,
   "metadata": {},
   "outputs": [],
   "source": [
    "for image_name in train_gp5['ImageId']:\n",
    "    mask_list = train_df['EncodedPixels'][train_df['ImageId'] == image_name].tolist()\n",
    "    seg_mask = np.zeros((768, 768, 1))\n",
    "    for item in mask_list:\n",
    "        rle_list = str(item).split()\n",
    "        tmp_mask = rle_to_mask(rle_list, (768, 768))\n",
    "        seg_mask[:,:,0] += tmp_mask"
   ]
  }
 ],
 "metadata": {
  "kernelspec": {
   "display_name": "Python [conda env:anaconda3]",
   "language": "python",
   "name": "conda-env-anaconda3-py"
  },
  "language_info": {
   "codemirror_mode": {
    "name": "ipython",
    "version": 3
   },
   "file_extension": ".py",
   "mimetype": "text/x-python",
   "name": "python",
   "nbconvert_exporter": "python",
   "pygments_lexer": "ipython3",
   "version": "3.6.6"
  }
 },
 "nbformat": 4,
 "nbformat_minor": 2
}
